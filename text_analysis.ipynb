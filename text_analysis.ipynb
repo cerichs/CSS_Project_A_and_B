{
 "cells": [
  {
   "cell_type": "code",
   "execution_count": 45,
   "metadata": {},
   "outputs": [],
   "source": [
    "# from get_links import links_on_page\n",
    "import numpy as np\n",
    "import pandas as pd\n",
    "import requests\n",
    "import re\n",
    "import networkx as nx\n",
    "import matplotlib.pyplot as plt\n",
    "import nltk\n",
    "import sklearn\n",
    "from bs4 import BeautifulSoup\n",
    "from tqdm import tqdm\n",
    "tqdm.pandas()\n",
    "from animal_list import names_from_table\n",
    "from netwulf import visualize"
   ]
  },
  {
   "cell_type": "code",
   "execution_count": 47,
   "metadata": {},
   "outputs": [],
   "source": [
    "animal_names = names_from_table()\n",
    "# read txt file with pandas\n",
    "animal_df = pd.read_csv('animal_links.txt', header=None)\n",
    "animal_df.columns = ['page-name']\n",
    "\n",
    "# remove the first part of the url\n",
    "animal_df['page-name'] = animal_df['page-name'].str.replace('https://en.wikipedia.org', '')\n",
    "animal_df[\"name\"] = animal_df[\"page-name\"].str.split(\"/\").str[-1]\n"
   ]
  },
  {
   "cell_type": "code",
   "execution_count": 50,
   "metadata": {},
   "outputs": [
    {
     "data": {
      "text/html": [
       "<div>\n",
       "<style scoped>\n",
       "    .dataframe tbody tr th:only-of-type {\n",
       "        vertical-align: middle;\n",
       "    }\n",
       "\n",
       "    .dataframe tbody tr th {\n",
       "        vertical-align: top;\n",
       "    }\n",
       "\n",
       "    .dataframe thead th {\n",
       "        text-align: right;\n",
       "    }\n",
       "</style>\n",
       "<table border=\"1\" class=\"dataframe\">\n",
       "  <thead>\n",
       "    <tr style=\"text-align: right;\">\n",
       "      <th></th>\n",
       "      <th>page-name</th>\n",
       "      <th>name</th>\n",
       "    </tr>\n",
       "  </thead>\n",
       "  <tbody>\n",
       "    <tr>\n",
       "      <th>0</th>\n",
       "      <td>/wiki/Scaly-crowned_babbler</td>\n",
       "      <td>Scaly-crowned_babbler</td>\n",
       "    </tr>\n",
       "    <tr>\n",
       "      <th>1</th>\n",
       "      <td>/wiki/Velvet-fronted_nuthatch</td>\n",
       "      <td>Velvet-fronted_nuthatch</td>\n",
       "    </tr>\n",
       "    <tr>\n",
       "      <th>2</th>\n",
       "      <td>/wiki/Mangrove_whistler</td>\n",
       "      <td>Mangrove_whistler</td>\n",
       "    </tr>\n",
       "    <tr>\n",
       "      <th>3</th>\n",
       "      <td>/wiki/Mees%27s_white-eye</td>\n",
       "      <td>Mees%27s_white-eye</td>\n",
       "    </tr>\n",
       "    <tr>\n",
       "      <th>4</th>\n",
       "      <td>/wiki/Ictiobus</td>\n",
       "      <td>Ictiobus</td>\n",
       "    </tr>\n",
       "    <tr>\n",
       "      <th>...</th>\n",
       "      <td>...</td>\n",
       "      <td>...</td>\n",
       "    </tr>\n",
       "    <tr>\n",
       "      <th>31749</th>\n",
       "      <td>/wiki/Eutropis_multicarinata</td>\n",
       "      <td>Eutropis_multicarinata</td>\n",
       "    </tr>\n",
       "    <tr>\n",
       "      <th>31750</th>\n",
       "      <td>/wiki/Gehyra_vorax</td>\n",
       "      <td>Gehyra_vorax</td>\n",
       "    </tr>\n",
       "    <tr>\n",
       "      <th>31751</th>\n",
       "      <td>/wiki/Minervarya_andamanensis</td>\n",
       "      <td>Minervarya_andamanensis</td>\n",
       "    </tr>\n",
       "    <tr>\n",
       "      <th>31752</th>\n",
       "      <td>/wiki/Minervarya_greenii</td>\n",
       "      <td>Minervarya_greenii</td>\n",
       "    </tr>\n",
       "    <tr>\n",
       "      <th>31753</th>\n",
       "      <td>/wiki/Zakerana_murthii</td>\n",
       "      <td>Zakerana_murthii</td>\n",
       "    </tr>\n",
       "  </tbody>\n",
       "</table>\n",
       "<p>31754 rows × 2 columns</p>\n",
       "</div>"
      ],
      "text/plain": [
       "                           page-name                     name\n",
       "0        /wiki/Scaly-crowned_babbler    Scaly-crowned_babbler\n",
       "1      /wiki/Velvet-fronted_nuthatch  Velvet-fronted_nuthatch\n",
       "2            /wiki/Mangrove_whistler        Mangrove_whistler\n",
       "3           /wiki/Mees%27s_white-eye       Mees%27s_white-eye\n",
       "4                     /wiki/Ictiobus                 Ictiobus\n",
       "...                              ...                      ...\n",
       "31749   /wiki/Eutropis_multicarinata   Eutropis_multicarinata\n",
       "31750             /wiki/Gehyra_vorax             Gehyra_vorax\n",
       "31751  /wiki/Minervarya_andamanensis  Minervarya_andamanensis\n",
       "31752       /wiki/Minervarya_greenii       Minervarya_greenii\n",
       "31753         /wiki/Zakerana_murthii         Zakerana_murthii\n",
       "\n",
       "[31754 rows x 2 columns]"
      ]
     },
     "execution_count": 50,
     "metadata": {},
     "output_type": "execute_result"
    }
   ],
   "source": [
    "# animal_names\n",
    "animal_df"
   ]
  },
  {
   "cell_type": "code",
   "execution_count": 51,
   "metadata": {},
   "outputs": [],
   "source": [
    "# create function that will run on each row in the dataframe, which will take the page name and return all the readable text on the page\n",
    "\n",
    "def get_text(page_name):\n",
    "    url = 'https://en.wikipedia.org' + page_name\n",
    "    response = requests.get(url)\n",
    "    html_content = response.content\n",
    "    soup = BeautifulSoup(html_content, 'html.parser')\n",
    "    # Find all the paragraphs in the body\n",
    "    paragraphs = soup.body.find_all('p')\n",
    "    # Extract the text from the paragraphs but remove \\n\n",
    "    # text = [p.text for p in paragraphs]\n",
    "    text = [str(p.text.replace('\\n', '')).strip() for p in paragraphs]\n",
    "    # Join the paragraphs together\n",
    "    joined_text = ' '.join(text)\n",
    "    # remove first space\n",
    "    joined_text = joined_text[1:]\n",
    "    return joined_text\n",
    "        "
   ]
  },
  {
   "cell_type": "code",
   "execution_count": 52,
   "metadata": {},
   "outputs": [
    {
     "data": {
      "text/plain": [
       "'See text The aardvark (/ˈɑːrdvɑːrk/ ARD-vark; Orycteropus afer) is a medium-sized, burrowing, nocturnal mammal native to Africa.[2][3] It is the only living species of the order Tubulidentata,[4][5] although other prehistoric species and genera of Tubulidentata are known. Unlike most other insectivores, it has a long snout, similar to that of a pig, which is used to sniff out food. The aardvark is found over much of the southern two-thirds of the African continent, avoiding areas that are mainly rocky. A nocturnal feeder, it subsists on ants and termites, which it will dig out of their hills using its sharp claws and powerful legs. It also digs to create burrows in which to live and rear its young. The animal is listed as \"least concern\" by the IUCN, although its numbers are decreasing. Aardvarks are afrotheres, a clade which also includes elephants, manatees, and hyraxes. The aardvark is sometimes colloquially called the \"African ant bear\",[6] \"anteater\" (not to be confused with the South American anteater), or the \"Cape anteater\"[6] after the Cape of Good Hope. The name \"aardvark\" is Afrikaans (Afrikaans pronunciation: [ˈɑːrtfark]), comes from earlier Afrikaans erdvark[6] and means \"earth pig\" or \"ground pig\" (aarde: \"earth/ground\", vark: \"pig\"), because of its burrowing habits.[7][8][9] The name Orycteropus means \"burrowing foot\", and the name afer refers to Africa.[10] The name of the aardvark\\'s order, Tubulidentata, comes from the tubule-style teeth.[11] The aardvark is not closely related to the pig; rather, it is the sole extant representative of the obscure mammalian order Tubulidentata,[10] in which it is usually considered to form one variable species of the genus Orycteropus, the sole surviving genus in the family Orycteropodidae. The aardvark is not closely related to the South American anteater, despite sharing some characteristics and a superficial resemblance.[12] The similarities are the outcome of convergent evolution.[13] The closest living relatives of the aardvark are the elephant shrews, tenrecidae, and golden moles.[14] Along with sirenians, hyraxes, elephants,[15] and their extinct relatives, these animals form the superorder Afrotheria.[16] Studies of the brain have shown the similarities with Condylarthra,[13] and given the clade\\'s status as a wastebasket taxon it may mean some species traditionally classified as \"condylarths\" are actually stem-aardvarks.[citation needed] Based on fossils, Bryan Patterson has concluded that early relatives of the aardvark appeared in Africa around the end of the Paleocene.[13][17] The ptolemaiidans, a mysterious clade of mammals with uncertain affinities, may actually be stem-aardvarks, either as a sister clade to Tubulidentata or as a grade leading to true tubulidentates.[18][19] The first unambiguous tubulidentate was probably Myorycteropus africanus from Kenyan Miocene deposits.[13] The earliest example from the genus Orycteropus was Orycteropus mauritanicus, found in Algeria in deposits from the middle Miocene, with an equally old version found in Kenya.[13] Fossils from the aardvark have been dated to 5 million years, and have been located throughout Europe and the Near East.[13] The mysterious Pleistocene Plesiorycteropus from Madagascar was originally thought to be a tubulidentate that was descended from ancestors that entered the island during the Eocene. However, a number of subtle anatomical differences coupled with recent molecular evidence now lead researchers to believe that Plesiorycteropus is a relative of golden moles and tenrecs that achieved an aardvark-like appearance and ecological niche through convergent evolution.[20] The aardvark has seventeen poorly defined subspecies listed:[4] The 1911 Encyclopædia Britannica also mentions O. a. capensis or Cape ant-bear from South Africa.[21] The aardvark is vaguely pig-like in appearance. Its body is stout with a prominently arched back[22] and is sparsely covered with coarse hairs. The limbs are of moderate length, with the rear legs being longer than the forelegs.[16] The front feet have lost the pollex (or \\'thumb\\'), resulting in four toes, while the rear feet have all five toes. Each toe bears a large, robust nail which is somewhat flattened and shovel-like, and appears to be intermediate between a claw and a hoof. Whereas the aardvark is considered digitigrade, it appears at times to be plantigrade. This confusion happens because when it squats it stands on its soles.[22] A contributing characteristic to the burrow digging capabilities of aardvarks is an endosteal tissue called compacted coarse cancellous bone (CCCB). The stress and strain resistance provided by CCCB allows aardvarks to create their burrows, ultimately leading to a favorable environment for plants and a variety of animals.[23][24] An aardvark\\'s weight is typically between 60 and 80 kilograms (130–180\\xa0lb).[16] An aardvark\\'s length is usually between 105 and 130 centimetres (3.44–4.27\\xa0ft),[5] and can reach lengths of 2.2 metres (7\\xa0ft 3\\xa0in) when its tail (which can be up to 70 centimetres (28\\xa0in)) is taken into account. It is 60 centimetres (24\\xa0in) tall at the shoulder, and has a girth of about 100 centimetres (3.3\\xa0ft).[22] It is the largest member of the proposed clade Afroinsectiphilia. The aardvark is pale yellowish-gray in color and often stained reddish-brown by soil. The aardvark\\'s coat is thin, and the animal\\'s primary protection is its tough skin. Its hair is short on its head and tail; however its legs tend to have longer hair.[5] The hair on the majority of its body is grouped in clusters of 3-4 hairs.[22] The hair surrounding its nostrils is dense to help filter particulate matter out as it digs. Its tail is very thick at the base and gradually tapers. The greatly elongated head is set on a short, thick neck, and the end of the snout bears a disc, which houses the nostrils. It contains a thin but complete zygomatic arch.[22] The head of the aardvark contains many unique and different features. One of the most distinctive characteristics of the Tubulidentata is their teeth. Instead of having a pulp cavity, each tooth has a cluster of thin, hexagonal, upright, parallel tubes of vasodentin (a modified form of dentine), with individual pulp canals, held together by cementum.[16] The number of columns is dependent on the size of the tooth, with the largest having about 1,500.[13] The teeth have no enamel coating and are worn away and regrow continuously.[11] The aardvark is born with conventional incisors and canines at the front of the jaw, which fall out and are not replaced. Adult aardvarks have only cheek teeth at the back of the jaw, and have a dental formula of: 0.0.2-3.30.0.2.3 These remaining teeth are peg-like and rootless and are of unique composition.[25] The teeth consist of 14 upper and 12 lower jaw molars.[6] The nasal area of the aardvark is another unique area, as it contains ten nasal conchae, more than any other placental mammal.[16] The sides of the nostrils are thick with hair.[22] The tip of the snout is highly mobile and is moved by modified mimetic muscles.[16] The fleshy dividing tissue between its nostrils probably has sensory functions,[5] but it is uncertain whether they are olfactory or vibratory in nature.[26] Its nose is made up of more turbinate bones than any other mammal, with between 9 and 11, compared to dogs with 4 to 5.[11] With a large quantity of turbinate bones, the aardvark has more space for the moist epithelium, which is the location of the olfactory bulb.[11] The nose contains nine olfactory bulbs, more than any other mammal.[22] Its keen sense of smell is not just from the quantity of bulbs in the nose but also in the development of the brain, as its olfactory lobe is very developed.[13] The snout resembles an elongated pig snout. The mouth is small and tubular, typical of species that feed on ants and termites. The aardvark has a long, thin, snakelike, protruding tongue (as much as 30 centimetres (12\\xa0in) long)[6] and elaborate structures supporting a keen sense of smell.[27] The ears, which are very effective,[6] are disproportionately long, about 20–25 centimetres (7.9–9.8\\xa0in) long.[22] The eyes are small for its head, and consist only of rods.[22] The aardvark\\'s stomach has a muscular pyloric area that acts as a gizzard to grind swallowed food up, thereby rendering chewing unnecessary.[5] Its cecum is large.[16] Both sexes emit a strong smelling secretion from an anal gland.[5] Its salivary glands are highly developed and almost completely ring the neck;[16] their output is what causes the tongue to maintain its tackiness.[22] The female has two pairs of teats in the inguinal region.[16] Genetically speaking, the aardvark is a living fossil, as its chromosomes are highly conserved, reflecting much of the early eutherian arrangement before the divergence of the major modern taxa.[28] Aardvarks are found in sub-Saharan Africa, where suitable habitat (savannas, grasslands, woodlands and bushland) and food (i.e., ants and termites) is available.[12] They spend the daylight hours in dark burrows to avoid the heat of the day.[29] The only major habitat that they are not present in is swamp forest, as the high water table precludes digging to a sufficient depth.[1] They also avoid terrain rocky enough to cause problems with digging.[30] They have been documented as high as 3,200 metres (10,500\\xa0ft) in Ethiopia. They are present throughout sub-Saharan Africa all the way to South Africa with few exceptions including the coastal areas of Namibia, Ivory Coast, and Ghana. They are not found in Madagascar.[1] Aardvarks live for up to 23\\xa0years in captivity.[16] Its keen hearing warns it of predators: lions, leopards, cheetahs, African wild dogs, hyenas, and pythons.[6][26] Some humans also hunt aardvarks for meat.[6] Aardvarks can dig fast or run in zigzag fashion to elude enemies, but if all else fails, they will strike with their claws, tail and shoulders, sometimes flipping onto their backs lying motionless except to lash out with all four feet.[26] They are capable of causing substantial damage to unprotected areas of an attacker.[11] They will also dig to escape as they can. Sometimes, when pressed, aardvarks can dig extremely quickly.[26] The aardvark is nocturnal and is a solitary creature that feeds almost exclusively on ants and termites (myrmecophagy);[5] the only fruit eaten by aardvarks is the aardvark cucumber.[26] In fact, the cucumber and the aardvark have a symbiotic relationship as they eat the subterranean fruit, then defecate the seeds near their burrows, which then grow rapidly due to the loose soil and fertile nature of the area. The time spent in the intestine of the aardvark helps the fertility of the seed, and the fruit provides needed moisture for the aardvark.[11][26] They avoid eating the African driver ant and red ants.[31] Due to their stringent diet requirements, they require a large range to survive.[30] An aardvark emerges from its burrow in the late afternoon or shortly after sunset, and forages over a considerable home range encompassing 10 to 30 kilometres (6.2 to 18.6\\xa0mi). While foraging for food, the aardvark will keep its nose to the ground and its ears pointed forward, which indicates that both smell and hearing are involved in the search for food. They zig-zag as they forage and will usually not repeat a route for 5–8 days as they appear to allow time for the termite nests to recover before feeding on it again.[31] During a foraging period, they will stop to dig a \"V\" shaped trench with their forefeet and then sniff it profusely as a means to explore their location.[5] When a concentration of ants or termites is detected, the aardvark digs into it with its powerful front legs, keeping its long ears upright to listen for predators, and takes up an astonishing number of insects with its long, sticky tongue—as many as 50,000 in one night have been recorded. Its claws enable it to dig through the extremely hard crust of a termite or ant mound quickly. It avoids inhaling the dust by sealing the nostrils.[29] When successful, the aardvark\\'s long (up to 30 centimetres (12\\xa0in))[2] tongue licks up the insects; the termites\\' biting, or the ants\\' stinging attacks are rendered futile by the tough skin. After an aardvark visit at a termite mound, other animals will visit to pick up all the leftovers.[32] Termite mounds alone do not provide enough food for the aardvark, so they look for termites that are on the move. When these insects move, they can form columns 10–40 metres (33–131\\xa0ft) long and these tend to provide easy pickings with little effort exerted by the aardvark. These columns are more common in areas of livestock or other hoofed animals.[32] The trampled grass and dung attract termites from the Odontotermes, Microtermes, and Pseudacanthotermes genera.[32] On a nightly basis they tend to be more active during the first portion of night (roughly the four hours between 8:00\\xa0p.m. and 12:00\\xa0a.m.); however, they do not seem to prefer bright or dark nights over the other. During adverse weather or if disturbed they will retreat to their burrow systems. They cover between 2 and 5 kilometres (1.2 and 3.1\\xa0mi) per night; however, some studies have shown that they may traverse as far as 30 kilometres (19\\xa0mi) in a night.[5] Aardvarks shift their circadian rhythms to more diurnal activity patterns in response to a reduced food supply. This survival tactic may signify an increased risk of imminent mortality.[33] The aardvark is a rather quiet animal. However, it does make soft grunting sounds as it forages and loud grunts as it makes for its tunnel entrance.[30] It makes a bleating sound if frightened.[31] When it is threatened it will make for one of its burrows. If one is not close it will dig a new one rapidly. This new one will be short and require the aardvark to back out when the coast is clear.[31] The aardvark is known to be a good swimmer and has been witnessed successfully swimming in strong currents.[31] It can dig a yard of tunnel in about five minutes,[30] but otherwise moves fairly slowly. When leaving the burrow at night, they pause at the entrance for about ten minutes, sniffing and listening. After this period of watchfulness, it will bound out and within seconds it will be 10 metres (33\\xa0ft) away. It will then pause, prick its ears, twisting its head to listen, then jump and move off to start foraging.[30] Aside from digging out ants and termites, the aardvark also excavates burrows in which to live, which generally fall into one of three categories: burrows made while foraging, refuge and resting location, and permanent homes.[5] Temporary sites are scattered around the home range and are used as refuges, while the main burrow is also used for breeding. Main burrows can be deep and extensive, have several entrances and can be as long as 13 metres (43\\xa0ft).[5] These burrows can be large enough for a person to enter.[6] The aardvark changes the layout of its home burrow regularly, and periodically moves on and makes a new one. The old burrows are an important part of the African wildlife scene. As they are vacated, then they are inhabited by smaller animals like the African wild dog, ant-eating chat, Nycteris thebaica and warthogs.[31] Other animals that use them are hares, mongooses, hyenas, owls, pythons, and lizards. Without these refuges many animals would die during wildfire season.[31] Only mothers and young share burrows; however, the aardvark is known to live in small family groups or as a solitary creature.[6] If attacked in the tunnel, it will escape by digging out of the tunnel thereby placing the fresh fill between it and its predator, or if it decides to fight it will roll onto its back, and attack with its claws.[6] The aardvark has been known to sleep in a recently excavated ant nest, which also serves as protection from its predators.[34] Aardvarks pair only during the breeding season; after a gestation period of seven months,[5] one cub weighing around 1.7–1.9 kilograms (3.7–4.2\\xa0lb)[16] is born during May–July.[6] When born, the young has flaccid ears and many wrinkles. When nursing, it will nurse off each teat in succession.[26] After two weeks, the folds of skin disappear and after three, the ears can be held upright.[26] After 5–6 weeks, body hair starts growing.[26] It is able to leave the burrow to accompany its mother after only two weeks and eats termites at 9\\xa0weeks,[26] and is weaned between three months[16] and 16\\xa0weeks.[5] At six months of age, it is able to dig its own burrows, but it will often remain with the mother until the next mating season,[5] and is sexually mature from approximately two years of age.[16] Aardvarks were thought to have declining numbers,[6] however, this is possibly because they are not readily seen.[1] There are no definitive counts because of their nocturnal and secretive habits; however, their numbers seem to be stable overall. They are not considered common anywhere in Africa, but due to their large range, they maintain sufficient numbers. There may be a slight decrease in numbers in eastern, northern, and western Africa. Southern African numbers are not decreasing. It has received an official designation from the IUCN as least concern.[1] However, they are a species in a precarious situation, as they are so dependent on such specific food; therefore if a problem arises with the abundance of termites, the species as a whole would be affected drastically.[5] Recent research suggests that aardvarks may be particularly vulnerable to alterations in temperature caused by climate change. Droughts negatively impact the availability of termites and ants, which comprise the bulk of an aardvark\\'s diet.[35]\\xa0Nocturnal species faced with resource scarcity may increase their diurnal activity to spare the energy costs of staying warm at night, but this comes at the cost of withstanding high temperatures during the day. A study on aardvarks in the Kalahari Desert saw that five out of six aardvarks being studied perished following a drought.[36] Aardvarks that survive droughts can take long periods of time to regain health and optimal thermoregulatory physiology, reducing the reproductive potential of the species. Aardvarks handle captivity well. The first zoo to have one was London Zoo in 1869, which had an animal from South Africa.[26] In African folklore, the aardvark is much admired because of its diligent quest for food and its fearless response to soldier ants. Hausa magicians make a charm from the heart, skin, forehead, and nails of the aardvark, which they then proceed to pound together with the root of a certain tree. Wrapped in a piece of skin and worn on the chest, the charm is said to give the owner the ability to pass through walls or roofs at night. The charm is said to be used by burglars and those seeking to visit young girls without their parents\\' permission.[37] Also, some tribes, such as the Margbetu, Ayanda, and Logo,[5] will use aardvark teeth to make bracelets, which are regarded as good luck charms.[6] The meat, which has a resemblance to pork, is eaten in certain cultures.[5] The ancient Egyptian god Set is usually depicted with the head of an unidentified animal, whose similarity to an aardvark has been noted in scholarship.[38] The titular character and his families from Arthur, an animated television series for children based on a book series and produced by WGBH, shown in more than 180 countries, is an aardvark.[39] In the first book of the series, Arthur\\'s Nose (1976), he has a long, aardvark-like nose,[40] but in later books, his face becomes more rounded.[41] Otis the Aardvark was a puppet character used on Children\\'s BBC programming. An aardvark features as the antagonist in the cartoon The Ant and the Aardvark as well as in the Canadian animated series The Raccoons. The supersonic fighter-bomber F-111/FB-111 was nicknamed the Aardvark because of its long nose resembling the animal. It also had similarities with its nocturnal missions flown at a very low level employing ordnance that could penetrate deep into the ground. In the US Navy, the squadron VF-114 was nicknamed the Aardvarks, flying F-4s and then F-14s. The squadron mascot was adapted from the animal in the comic strip B.C., which the F-4 was said to resemble. Cerebus the Aardvark is a 300-issue comic book series by Dave Sim.'"
      ]
     },
     "execution_count": 52,
     "metadata": {},
     "output_type": "execute_result"
    }
   ],
   "source": [
    "get_text('/wiki/Aardvark')"
   ]
  },
  {
   "cell_type": "code",
   "execution_count": 53,
   "metadata": {},
   "outputs": [
    {
     "name": "stderr",
     "output_type": "stream",
     "text": [
      "  0%|          | 98/31754 [00:41<4:05:06,  2.15it/s]"
     ]
    }
   ],
   "source": [
    "# create a new column in the dataframe that will contain the text from the page\n",
    "animal_df['text'] = animal_df['page-name'].progress_apply(get_text)"
   ]
  },
  {
   "cell_type": "code",
   "execution_count": 9,
   "metadata": {},
   "outputs": [],
   "source": [
    "def tokenize(text):\n",
    "    # convert to lowercase\n",
    "    text = text.lower()\n",
    "\n",
    "    # remove punctuation\n",
    "    text = re.sub(r'[^\\w\\s]', '', text)\n",
    "\n",
    "    # remove urls\n",
    "    text = re.sub(r'http\\S+', '', text)\n",
    "\n",
    "    # remove numbers\n",
    "    text = re.sub(r'\\d+', '', text)\n",
    "\n",
    "    # tokenize\n",
    "    tokens = nltk.word_tokenize(text)\n",
    "\n",
    "    # remove stopwords\n",
    "    stop_words = set(nltk.corpus.stopwords.words('english'))\n",
    "    tokens = [w for w in tokens if not w in stop_words]\n",
    "    return tokens"
   ]
  },
  {
   "cell_type": "code",
   "execution_count": 10,
   "metadata": {},
   "outputs": [],
   "source": [
    "# create a new column in the dataframe that will contain the tokenized text from the page\n",
    "animal_df['tokens'] = animal_df['text'].apply(tokenize)"
   ]
  },
  {
   "cell_type": "code",
   "execution_count": 11,
   "metadata": {},
   "outputs": [
    {
     "data": {
      "text/html": [
       "<div>\n",
       "<style scoped>\n",
       "    .dataframe tbody tr th:only-of-type {\n",
       "        vertical-align: middle;\n",
       "    }\n",
       "\n",
       "    .dataframe tbody tr th {\n",
       "        vertical-align: top;\n",
       "    }\n",
       "\n",
       "    .dataframe thead th {\n",
       "        text-align: right;\n",
       "    }\n",
       "</style>\n",
       "<table border=\"1\" class=\"dataframe\">\n",
       "  <thead>\n",
       "    <tr style=\"text-align: right;\">\n",
       "      <th></th>\n",
       "      <th>page-name</th>\n",
       "      <th>animal</th>\n",
       "      <th>text</th>\n",
       "      <th>tokens</th>\n",
       "    </tr>\n",
       "  </thead>\n",
       "  <tbody>\n",
       "    <tr>\n",
       "      <th>0</th>\n",
       "      <td>/wiki/Aardvark</td>\n",
       "      <td>Aardvark</td>\n",
       "      <td>See text The aardvark (/ˈɑːrdvɑːrk/ ARD-vark; ...</td>\n",
       "      <td>[see, text, aardvark, ˈɑːrdvɑːrk, ardvark, ory...</td>\n",
       "    </tr>\n",
       "    <tr>\n",
       "      <th>1</th>\n",
       "      <td>/wiki/Albatross</td>\n",
       "      <td>Albatross</td>\n",
       "      <td>Captured at Midway Atoll DiomedeaThalassarche...</td>\n",
       "      <td>[captured, midway, atoll, diomedeathalassarche...</td>\n",
       "    </tr>\n",
       "    <tr>\n",
       "      <th>2</th>\n",
       "      <td>/wiki/Alligator</td>\n",
       "      <td>Alligator</td>\n",
       "      <td>An alligator, or just gator, is a large reptil...</td>\n",
       "      <td>[alligator, gator, large, reptile, crocodilia,...</td>\n",
       "    </tr>\n",
       "    <tr>\n",
       "      <th>3</th>\n",
       "      <td>/wiki/Alpaca</td>\n",
       "      <td>Alpaca</td>\n",
       "      <td>Camelus pacos Linnaeus, 1758Vicugna pacos (Li...</td>\n",
       "      <td>[camelus, pacos, linnaeus, vicugna, pacos, lin...</td>\n",
       "    </tr>\n",
       "    <tr>\n",
       "      <th>4</th>\n",
       "      <td>/wiki/Ant</td>\n",
       "      <td>Ant</td>\n",
       "      <td>Martialinae Leptanillinae Amblyoponinae Parapo...</td>\n",
       "      <td>[martialinae, leptanillinae, amblyoponinae, pa...</td>\n",
       "    </tr>\n",
       "    <tr>\n",
       "      <th>...</th>\n",
       "      <td>...</td>\n",
       "      <td>...</td>\n",
       "      <td>...</td>\n",
       "      <td>...</td>\n",
       "    </tr>\n",
       "    <tr>\n",
       "      <th>223</th>\n",
       "      <td>/wiki/Whale</td>\n",
       "      <td>Whale</td>\n",
       "      <td>Whales are a widely distributed and diverse gr...</td>\n",
       "      <td>[whales, widely, distributed, diverse, group, ...</td>\n",
       "    </tr>\n",
       "    <tr>\n",
       "      <th>224</th>\n",
       "      <td>/wiki/Wolf</td>\n",
       "      <td>Wolf</td>\n",
       "      <td>See Subspecies of Canis lupus The wolf (Canis ...</td>\n",
       "      <td>[see, subspecies, canis, lupus, wolf, canis, l...</td>\n",
       "    </tr>\n",
       "    <tr>\n",
       "      <th>225</th>\n",
       "      <td>/wiki/Wolverine</td>\n",
       "      <td>Wolverine</td>\n",
       "      <td>American wolverine (G. g. luscus) Eurasian wol...</td>\n",
       "      <td>[american, wolverine, g, g, luscus, eurasian, ...</td>\n",
       "    </tr>\n",
       "    <tr>\n",
       "      <th>226</th>\n",
       "      <td>/wiki/Wombat</td>\n",
       "      <td>Wombat</td>\n",
       "      <td>Wombats are short-legged, muscular quadrupedal...</td>\n",
       "      <td>[wombats, shortlegged, muscular, quadrupedal, ...</td>\n",
       "    </tr>\n",
       "    <tr>\n",
       "      <th>227</th>\n",
       "      <td>/wiki/Zebra</td>\n",
       "      <td>Zebra</td>\n",
       "      <td>†E. capensisE. grevyi†E. koobiforensis†E. maur...</td>\n",
       "      <td>[e, capensise, grevyie, koobiforensise, maurit...</td>\n",
       "    </tr>\n",
       "  </tbody>\n",
       "</table>\n",
       "<p>228 rows × 4 columns</p>\n",
       "</div>"
      ],
      "text/plain": [
       "           page-name     animal   \n",
       "0     /wiki/Aardvark   Aardvark  \\\n",
       "1    /wiki/Albatross  Albatross   \n",
       "2    /wiki/Alligator  Alligator   \n",
       "3       /wiki/Alpaca     Alpaca   \n",
       "4          /wiki/Ant        Ant   \n",
       "..               ...        ...   \n",
       "223      /wiki/Whale      Whale   \n",
       "224       /wiki/Wolf       Wolf   \n",
       "225  /wiki/Wolverine  Wolverine   \n",
       "226     /wiki/Wombat     Wombat   \n",
       "227      /wiki/Zebra      Zebra   \n",
       "\n",
       "                                                  text   \n",
       "0    See text The aardvark (/ˈɑːrdvɑːrk/ ARD-vark; ...  \\\n",
       "1     Captured at Midway Atoll DiomedeaThalassarche...   \n",
       "2    An alligator, or just gator, is a large reptil...   \n",
       "3     Camelus pacos Linnaeus, 1758Vicugna pacos (Li...   \n",
       "4    Martialinae Leptanillinae Amblyoponinae Parapo...   \n",
       "..                                                 ...   \n",
       "223  Whales are a widely distributed and diverse gr...   \n",
       "224  See Subspecies of Canis lupus The wolf (Canis ...   \n",
       "225  American wolverine (G. g. luscus) Eurasian wol...   \n",
       "226  Wombats are short-legged, muscular quadrupedal...   \n",
       "227  †E. capensisE. grevyi†E. koobiforensis†E. maur...   \n",
       "\n",
       "                                                tokens  \n",
       "0    [see, text, aardvark, ˈɑːrdvɑːrk, ardvark, ory...  \n",
       "1    [captured, midway, atoll, diomedeathalassarche...  \n",
       "2    [alligator, gator, large, reptile, crocodilia,...  \n",
       "3    [camelus, pacos, linnaeus, vicugna, pacos, lin...  \n",
       "4    [martialinae, leptanillinae, amblyoponinae, pa...  \n",
       "..                                                 ...  \n",
       "223  [whales, widely, distributed, diverse, group, ...  \n",
       "224  [see, subspecies, canis, lupus, wolf, canis, l...  \n",
       "225  [american, wolverine, g, g, luscus, eurasian, ...  \n",
       "226  [wombats, shortlegged, muscular, quadrupedal, ...  \n",
       "227  [e, capensise, grevyie, koobiforensise, maurit...  \n",
       "\n",
       "[228 rows x 4 columns]"
      ]
     },
     "execution_count": 11,
     "metadata": {},
     "output_type": "execute_result"
    }
   ],
   "source": [
    "animal_df"
   ]
  },
  {
   "cell_type": "code",
   "execution_count": 12,
   "metadata": {},
   "outputs": [
    {
     "data": {
      "text/plain": [
       "(228, 40888)"
      ]
     },
     "execution_count": 12,
     "metadata": {},
     "output_type": "execute_result"
    }
   ],
   "source": [
    "# td-idf\n",
    "from sklearn.feature_extraction.text import TfidfVectorizer\n",
    "tfidf = TfidfVectorizer()\n",
    "tfidf_matrix = tfidf.fit_transform(animal_df['text'])\n",
    "tfidf_matrix.shape\n",
    "\n"
   ]
  },
  {
   "cell_type": "code",
   "execution_count": null,
   "metadata": {},
   "outputs": [],
   "source": [
    "def preprocess_text(text):\n",
    "    text = text.lower()\n",
    "    text = re.sub(r'\\d+', '', text)\n",
    "    return text"
   ]
  },
  {
   "cell_type": "code",
   "execution_count": 24,
   "metadata": {},
   "outputs": [],
   "source": [
    "vectorizer = TfidfVectorizer(stop_words='english', preprocessor=preprocess_text)\n",
    "# vectorizer = TfidfVectorizer(tokenizer=tokenize, stop_words='english')\n",
    "vectors = vectorizer.fit_transform(animal_df['text'])\n",
    "feature_names = vectorizer.get_feature_names_out()\n",
    "dense = vectors.todense()\n",
    "denselist = dense.tolist()\n",
    "df = pd.DataFrame(denselist, columns=feature_names)"
   ]
  },
  {
   "cell_type": "code",
   "execution_count": 14,
   "metadata": {},
   "outputs": [],
   "source": [
    "def tf_idf(corpus):\n",
    "    tf_dist = [nltk.FreqDist(text) for tokens in corpus]\n"
   ]
  }
 ],
 "metadata": {
  "kernelspec": {
   "display_name": "Python 3",
   "language": "python",
   "name": "python3"
  },
  "language_info": {
   "codemirror_mode": {
    "name": "ipython",
    "version": 3
   },
   "file_extension": ".py",
   "mimetype": "text/x-python",
   "name": "python",
   "nbconvert_exporter": "python",
   "pygments_lexer": "ipython3",
   "version": "3.11.3"
  },
  "orig_nbformat": 4
 },
 "nbformat": 4,
 "nbformat_minor": 2
}
